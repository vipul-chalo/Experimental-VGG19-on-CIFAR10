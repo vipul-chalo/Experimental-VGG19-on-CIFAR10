{
 "cells": [
  {
   "cell_type": "markdown",
   "id": "a7ca36c8-a3cd-45a5-9776-632695a9d6f7",
   "metadata": {},
   "source": [
    "### WEIGHT DEVELOPMENT WILCOXON SIGNED-RANK TEST"
   ]
  },
  {
   "cell_type": "markdown",
   "id": "7feaad10-9a5b-4f08-b5ba-e8e9350e45c6",
   "metadata": {},
   "source": [
    "In this Notebook, Wilcoxon Signed-Rank Test is performed on the weight and bias development over time for the two models. This is done in a total of six developments over checkpoints 1->2, 1->3, 1->4, 2->3, 2->4, and 3->4."
   ]
  },
  {
   "cell_type": "markdown",
   "id": "47f4f635-3c74-4da4-9975-813d640fcc58",
   "metadata": {},
   "source": [
    "##### LOADING NECESSARY LIBRARIES AND CREATING NECESSARY FUNCTIONS"
   ]
  },
  {
   "cell_type": "code",
   "execution_count": 1,
   "id": "dcb175cf",
   "metadata": {},
   "outputs": [],
   "source": [
    "import numpy as np\n",
    "import pandas as pd\n",
    "import tensorflow as tf\n",
    "import scipy.stats as stats\n",
    "import matplotlib.pyplot as plt\n",
    "import seaborn as sns\n",
    "import custom_vgg22\n",
    "import preloaded_vgg22\n",
    "import os\n",
    "import matplotlib.patches as mpatches"
   ]
  },
  {
   "cell_type": "code",
   "execution_count": 2,
   "id": "5475fd05-6bf8-4f8a-b454-8fdb4e31b1b4",
   "metadata": {},
   "outputs": [],
   "source": [
    "os.environ['KMP_DUPLICATE_LIB_OK'] = 'True'"
   ]
  },
  {
   "cell_type": "code",
   "execution_count": 3,
   "id": "4cc45645-ebd2-4ed1-8462-5e528e8f27a0",
   "metadata": {},
   "outputs": [],
   "source": [
    "# function to load preloaded VGGNet model on custom VGGNet model architecture\n",
    "def model_preload(weights=tf.keras.Model.weights):\n",
    "    \"\"\"\n",
    "    input:\n",
    "    weights -- weights of the base VGGNet model\n",
    "\n",
    "    output:\n",
    "    tf.keras.Model -- VGG22 Model with preloaded_VGG weights but custom_VGG architecture\n",
    "    \n",
    "    \"\"\"\n",
    "    # purpose of this function is to make later weights and biases comparisons easier\n",
    "    # by providing the same architecture to both the models\n",
    "    \n",
    "    base_model = preloaded_vgg22.cifar10_VGG22()   # loading preloaded VGG22 model\n",
    "    base_model.load_weights(weights)\n",
    "    \n",
    "    preload_model = custom_vgg22.cifar10_custom_VGG22()  # loading custom VGG22 model\n",
    "\n",
    "    i = 2\n",
    "    # assigning weights correspondingly from preloaded model to custom model\n",
    "    for layer in base_model.layers[3].layers:\n",
    "        preload_model.layers[i].set_weights(layer.weights)  # VGGNet architecture\n",
    "        i += 1\n",
    "    \n",
    "    preload_model.layers[i].set_weights(base_model.layers[4].weights)       # batchnormalization layer\n",
    "    preload_model.layers[i+3].set_weights(base_model.layers[7].weights)     # fc1 dense layer\n",
    "    preload_model.layers[i+5].set_weights(base_model.layers[9].weights)     # fc2 dense layer\n",
    "    preload_model.layers[i+7].set_weights(base_model.layers[11].weights)    # fc3 dense layer\n",
    "    preload_model.layers[i+9].set_weights(base_model.layers[13].weights)    # fc4 dense layer\n",
    "    preload_model.layers[i+11].set_weights(base_model.layers[15].weights)   # predictions layer\n",
    "\n",
    "    return preload_model"
   ]
  },
  {
   "cell_type": "code",
   "execution_count": 4,
   "id": "a0bf5615-a59d-4a9b-9e13-a47258ce5ab2",
   "metadata": {},
   "outputs": [],
   "source": [
    "# function to perform Wilcoxon Signed-Rank Test across the two models for respective layer weight and bias differences\n",
    "def wilcoxon_calc(preload_models=[tf.keras.Model, tf.keras.Model], custom_models=[tf.keras.Model, tf.keras.Model]):\n",
    "    \"\"\"\n",
    "    input:\n",
    "    preload_models -- two tf.keras.Model\n",
    "    custom_models -- two tf.keras.Model\n",
    "\n",
    "    output:\n",
    "    dictionary -- a dictionary with Wilcoxon Signed-Rank Test results\n",
    "    \"\"\"\n",
    "    data = {}\n",
    "\n",
    "    for i in range(len(preload_models[0].layers)):  # looping through the model     \n",
    "        if preload_models[0].layers[i].weights != []:  # excluding layers without weights and biases\n",
    "            # weight difference for the two preload models\n",
    "            preload_weights_diff = preload_models[1].layers[i].get_weights()[0].flatten() - preload_models[0].layers[i].get_weights()[0].flatten()\n",
    "            # bias difference for the two preload models\n",
    "            preload_biases_diff = preload_models[1].layers[i].get_weights()[1] - preload_models[0].layers[i].get_weights()[1]\n",
    "            # weight difference for the two custom models\n",
    "            custom_weights_diff = custom_models[1].layers[i].get_weights()[0].flatten() - custom_models[0].layers[i].get_weights()[0].flatten()\n",
    "            # bias difference for the two custom models\n",
    "            custom_biases_diff = custom_models[1].layers[i].get_weights()[1] - custom_models[0].layers[i].get_weights()[1]\n",
    "            # performing Wilcoxon Signed-Rank Test while\n",
    "            # making sure that neither either vector nor their element-wise subtraction is a zero vector\n",
    "            if np.all(preload_weights_diff - custom_weights_diff != 0.0) and np.all(preload_weights_diff != 0.0) and np.all(custom_weights_diff != 0.0):\n",
    "                _, data[preload_models[0].layers[i].name+\"_w\"] = stats.wilcoxon(preload_weights_diff, custom_weights_diff)\n",
    "            if np.all(preload_biases_diff - custom_biases_diff != 0.0) and np.all(preload_biases_diff != 0.0) and np.all(custom_biases_diff != 0.0):\n",
    "                _, data[preload_models[0].layers[i].name+\"_b\"] = stats.wilcoxon(preload_biases_diff, custom_biases_diff)\n",
    "            \n",
    "    return data"
   ]
  },
  {
   "cell_type": "code",
   "execution_count": 5,
   "id": "add2b694-3849-4bd2-9270-5b71f117bcbc",
   "metadata": {},
   "outputs": [],
   "source": [
    "# function to transform dictionary to Pandas DataFrame\n",
    "def dict_to_DF(g_dict=None, checkpoint=None):\n",
    "    \"\"\"\n",
    "    input:\n",
    "    g_dict -- a dictionary with Wilcoxon Signed-Rank Test results\n",
    "    checkpoint -- model checkpoint as a string\n",
    "    \n",
    "    output:\n",
    "    Pandas DataFrame -- a Pandas DataFrame\n",
    "    \n",
    "    \"\"\"\n",
    "    data = pd.DataFrame(list(g_dict.items()), columns=['Layer', 'p-Value'])  # creating DataFrame\n",
    "    # creating a column to tell if H0 is rejected or not\n",
    "    data[\"Median Difference\"] = data['p-Value'].apply(lambda x: \"Not significant (H0 rejection fail)\" if x > 0.05 else \"Significant (reject H0)\")\n",
    "    # creating a column with binary encoded median difference values\n",
    "    data[\"binary difference\"] = data['p-Value'].apply(lambda x: 0 if x > 0.05 else 1)\n",
    "    # creating a column with checkpoint values\n",
    "    data[\"checkpoint\"] = checkpoint\n",
    "    # creating a column to spot weights or biases\n",
    "    data[\"value category\"] = data[\"Layer\"].apply(lambda x: \"Weights\" if x.rsplit(\"_\", 1)[-1] == \"w\" else \"Biases\")\n",
    "    # fixing up the Layer column\n",
    "    data[\"Layer\"] = data[\"Layer\"].apply(lambda x: x.rsplit(\"_\", 1)[0])\n",
    "    \n",
    "    return data"
   ]
  },
  {
   "cell_type": "markdown",
   "id": "1e6f87c8-a637-4117-9067-11299ba68ead",
   "metadata": {},
   "source": [
    "### CHECKPOINT 1 TO CHECKPOINT 2 WILCOXON SIGNED-RANK TEST"
   ]
  },
  {
   "cell_type": "code",
   "execution_count": 6,
   "id": "31a0fd29-7cab-4e0c-af43-53cc87baa4b5",
   "metadata": {},
   "outputs": [],
   "source": [
    "# loading all the models with respective initial and final weights\n",
    "custom_models = [custom_vgg22.cifar10_custom_VGG22(weights='D:/CIFAR_10_stuff/weights/custom_VGG_checkpoint_1.h5'),\n",
    "                 custom_vgg22.cifar10_custom_VGG22(weights='D:/CIFAR_10_stuff/weights/custom_VGG_checkpoint_2.h5')]\n",
    "preload_models = [model_preload(weights='D:/CIFAR_10_stuff/weights/preload_VGG_checkpoint_1.h5'),\n",
    "                  model_preload(weights='D:/CIFAR_10_stuff/weights/preload_VGG_checkpoint_2.h5')]"
   ]
  },
  {
   "cell_type": "code",
   "execution_count": 7,
   "id": "fca550a9-0a77-4ac5-9214-baee939e9b81",
   "metadata": {},
   "outputs": [],
   "source": [
    "# performing the test across the respective layer weight and bias differences\n",
    "wilcoxon_data = wilcoxon_calc(preload_models=preload_models, custom_models=custom_models)"
   ]
  },
  {
   "cell_type": "code",
   "execution_count": 8,
   "id": "7cb2b7a7-6b1c-4b0a-a968-ae3b5c29fc50",
   "metadata": {},
   "outputs": [
    {
     "data": {
      "text/html": [
       "<div>\n",
       "<style scoped>\n",
       "    .dataframe tbody tr th:only-of-type {\n",
       "        vertical-align: middle;\n",
       "    }\n",
       "\n",
       "    .dataframe tbody tr th {\n",
       "        vertical-align: top;\n",
       "    }\n",
       "\n",
       "    .dataframe thead th {\n",
       "        text-align: right;\n",
       "    }\n",
       "</style>\n",
       "<table border=\"1\" class=\"dataframe\">\n",
       "  <thead>\n",
       "    <tr style=\"text-align: right;\">\n",
       "      <th></th>\n",
       "      <th>Layer</th>\n",
       "      <th>p-Value</th>\n",
       "      <th>Median Difference</th>\n",
       "    </tr>\n",
       "  </thead>\n",
       "  <tbody>\n",
       "    <tr>\n",
       "      <th>0</th>\n",
       "      <td>batch_norm</td>\n",
       "      <td>4.497109e-77</td>\n",
       "      <td>Significant (reject H0)</td>\n",
       "    </tr>\n",
       "    <tr>\n",
       "      <th>1</th>\n",
       "      <td>batch_norm</td>\n",
       "      <td>2.477472e-24</td>\n",
       "      <td>Significant (reject H0)</td>\n",
       "    </tr>\n",
       "    <tr>\n",
       "      <th>2</th>\n",
       "      <td>fc1</td>\n",
       "      <td>1.042415e-243</td>\n",
       "      <td>Significant (reject H0)</td>\n",
       "    </tr>\n",
       "    <tr>\n",
       "      <th>3</th>\n",
       "      <td>fc1</td>\n",
       "      <td>4.056193e-169</td>\n",
       "      <td>Significant (reject H0)</td>\n",
       "    </tr>\n",
       "    <tr>\n",
       "      <th>4</th>\n",
       "      <td>fc2</td>\n",
       "      <td>0.000000e+00</td>\n",
       "      <td>Significant (reject H0)</td>\n",
       "    </tr>\n",
       "  </tbody>\n",
       "</table>\n",
       "</div>"
      ],
      "text/plain": [
       "        Layer        p-Value        Median Difference\n",
       "0  batch_norm   4.497109e-77  Significant (reject H0)\n",
       "1  batch_norm   2.477472e-24  Significant (reject H0)\n",
       "2         fc1  1.042415e-243  Significant (reject H0)\n",
       "3         fc1  4.056193e-169  Significant (reject H0)\n",
       "4         fc2   0.000000e+00  Significant (reject H0)"
      ]
     },
     "execution_count": 8,
     "metadata": {},
     "output_type": "execute_result"
    }
   ],
   "source": [
    "# putting together the calculations into a Pandas DataFrame\n",
    "wilcoxon_df = dict_to_DF(g_dict=wilcoxon_data, checkpoint=\"Checkpoints: 1 to 2\")\n",
    "wilcoxon_df.iloc[:,:3].head()"
   ]
  },
  {
   "cell_type": "code",
   "execution_count": 9,
   "id": "6d84c232-cc55-4847-9385-435b74cef69d",
   "metadata": {},
   "outputs": [],
   "source": [
    "# putting together a new Pandas DataFrame to combine results from all checkpoints\n",
    "overall_wilcoxon_data = wilcoxon_df"
   ]
  },
  {
   "cell_type": "markdown",
   "id": "763ad55d-2e43-4da5-b764-12b80796f2e2",
   "metadata": {},
   "source": [
    "### CHECKPOINT 1 TO CHECKPOINT 3 WILCOXON SIGNED-RANK TEST"
   ]
  },
  {
   "cell_type": "code",
   "execution_count": 10,
   "id": "21251ae4-2f56-4b92-8a4b-3ee1a7d39ff4",
   "metadata": {},
   "outputs": [],
   "source": [
    "# loading all the models with respective initial and final weights\n",
    "custom_models = [custom_vgg22.cifar10_custom_VGG22(weights='D:/CIFAR_10_stuff/weights/custom_VGG_checkpoint_1.h5'),\n",
    "                 custom_vgg22.cifar10_custom_VGG22(weights='D:/CIFAR_10_stuff/weights/custom_VGG_checkpoint_3.h5')]\n",
    "preload_models = [model_preload(weights='D:/CIFAR_10_stuff/weights/preload_VGG_checkpoint_1.h5'),\n",
    "                  model_preload(weights='D:/CIFAR_10_stuff/weights/preload_VGG_checkpoint_3.h5')]"
   ]
  },
  {
   "cell_type": "code",
   "execution_count": 11,
   "id": "066f2801-06ab-451b-b035-8fabc01ca71e",
   "metadata": {},
   "outputs": [],
   "source": [
    "# performing the test across the respective layer weight and bias differences\n",
    "wilcoxon_data = wilcoxon_calc(preload_models=preload_models, custom_models=custom_models)"
   ]
  },
  {
   "cell_type": "code",
   "execution_count": 12,
   "id": "723db3f6-9734-4530-bcf2-d5d1fd6b3c1a",
   "metadata": {},
   "outputs": [
    {
     "data": {
      "text/html": [
       "<div>\n",
       "<style scoped>\n",
       "    .dataframe tbody tr th:only-of-type {\n",
       "        vertical-align: middle;\n",
       "    }\n",
       "\n",
       "    .dataframe tbody tr th {\n",
       "        vertical-align: top;\n",
       "    }\n",
       "\n",
       "    .dataframe thead th {\n",
       "        text-align: right;\n",
       "    }\n",
       "</style>\n",
       "<table border=\"1\" class=\"dataframe\">\n",
       "  <thead>\n",
       "    <tr style=\"text-align: right;\">\n",
       "      <th></th>\n",
       "      <th>Layer</th>\n",
       "      <th>p-Value</th>\n",
       "      <th>Median Difference</th>\n",
       "    </tr>\n",
       "  </thead>\n",
       "  <tbody>\n",
       "    <tr>\n",
       "      <th>0</th>\n",
       "      <td>block1_conv1</td>\n",
       "      <td>7.102209e-01</td>\n",
       "      <td>Not significant (H0 rejection fail)</td>\n",
       "    </tr>\n",
       "    <tr>\n",
       "      <th>1</th>\n",
       "      <td>block1_conv1</td>\n",
       "      <td>9.466812e-01</td>\n",
       "      <td>Not significant (H0 rejection fail)</td>\n",
       "    </tr>\n",
       "    <tr>\n",
       "      <th>2</th>\n",
       "      <td>block1_conv2</td>\n",
       "      <td>3.840897e-11</td>\n",
       "      <td>Significant (reject H0)</td>\n",
       "    </tr>\n",
       "    <tr>\n",
       "      <th>3</th>\n",
       "      <td>block1_conv2</td>\n",
       "      <td>9.626626e-01</td>\n",
       "      <td>Not significant (H0 rejection fail)</td>\n",
       "    </tr>\n",
       "    <tr>\n",
       "      <th>4</th>\n",
       "      <td>block2_conv1</td>\n",
       "      <td>6.791331e-03</td>\n",
       "      <td>Significant (reject H0)</td>\n",
       "    </tr>\n",
       "  </tbody>\n",
       "</table>\n",
       "</div>"
      ],
      "text/plain": [
       "          Layer       p-Value                    Median Difference\n",
       "0  block1_conv1  7.102209e-01  Not significant (H0 rejection fail)\n",
       "1  block1_conv1  9.466812e-01  Not significant (H0 rejection fail)\n",
       "2  block1_conv2  3.840897e-11              Significant (reject H0)\n",
       "3  block1_conv2  9.626626e-01  Not significant (H0 rejection fail)\n",
       "4  block2_conv1  6.791331e-03              Significant (reject H0)"
      ]
     },
     "execution_count": 12,
     "metadata": {},
     "output_type": "execute_result"
    }
   ],
   "source": [
    "# putting together the calculations into a Pandas DataFrame\n",
    "wilcoxon_df = dict_to_DF(g_dict=wilcoxon_data, checkpoint=\"Checkpoints: 1 to 3\")\n",
    "wilcoxon_df.iloc[:,:3].head()"
   ]
  },
  {
   "cell_type": "code",
   "execution_count": 13,
   "id": "d5f3ddef-719a-4dd8-892b-c82b5f4acec0",
   "metadata": {},
   "outputs": [],
   "source": [
    "# putting checkpoint 1 to checkpoint 3 results into a combined results DataFrame\n",
    "overall_wilcoxon_data = pd.concat([overall_wilcoxon_data, wilcoxon_df], ignore_index=True)"
   ]
  },
  {
   "cell_type": "markdown",
   "id": "ecdc0276-8e12-4d3a-a7cb-77d7b119b49d",
   "metadata": {},
   "source": [
    "### CHECKPOINT 1 TO CHECKPOINT 4 WILCOXON SIGNED-RANK TEST"
   ]
  },
  {
   "cell_type": "code",
   "execution_count": 14,
   "id": "b430d728-d95f-482f-910d-a7d2e035bff6",
   "metadata": {},
   "outputs": [],
   "source": [
    "# loading all the models with respective initial and final weights\n",
    "custom_models = [custom_vgg22.cifar10_custom_VGG22(weights='D:/CIFAR_10_stuff/weights/custom_VGG_checkpoint_1.h5'),\n",
    "                 custom_vgg22.cifar10_custom_VGG22(weights='D:/CIFAR_10_stuff/weights/custom_VGG_checkpoint_4.h5')]\n",
    "preload_models = [model_preload(weights='D:/CIFAR_10_stuff/weights/preload_VGG_checkpoint_1.h5'),\n",
    "                  model_preload(weights='D:/CIFAR_10_stuff/weights/preload_VGG_checkpoint_4.h5')]"
   ]
  },
  {
   "cell_type": "code",
   "execution_count": 15,
   "id": "0bcf92cd-a20d-4862-9546-b252005eacfa",
   "metadata": {},
   "outputs": [],
   "source": [
    "# performing the test across the respective layer weight and bias differences\n",
    "wilcoxon_data = wilcoxon_calc(preload_models=preload_models, custom_models=custom_models)"
   ]
  },
  {
   "cell_type": "code",
   "execution_count": 16,
   "id": "43d5dd46-b1bf-49b9-a2a1-c213d02e14ed",
   "metadata": {},
   "outputs": [
    {
     "data": {
      "text/html": [
       "<div>\n",
       "<style scoped>\n",
       "    .dataframe tbody tr th:only-of-type {\n",
       "        vertical-align: middle;\n",
       "    }\n",
       "\n",
       "    .dataframe tbody tr th {\n",
       "        vertical-align: top;\n",
       "    }\n",
       "\n",
       "    .dataframe thead th {\n",
       "        text-align: right;\n",
       "    }\n",
       "</style>\n",
       "<table border=\"1\" class=\"dataframe\">\n",
       "  <thead>\n",
       "    <tr style=\"text-align: right;\">\n",
       "      <th></th>\n",
       "      <th>Layer</th>\n",
       "      <th>p-Value</th>\n",
       "      <th>Median Difference</th>\n",
       "    </tr>\n",
       "  </thead>\n",
       "  <tbody>\n",
       "    <tr>\n",
       "      <th>0</th>\n",
       "      <td>block1_conv1</td>\n",
       "      <td>0.627072</td>\n",
       "      <td>Not significant (H0 rejection fail)</td>\n",
       "    </tr>\n",
       "    <tr>\n",
       "      <th>1</th>\n",
       "      <td>block1_conv1</td>\n",
       "      <td>0.688236</td>\n",
       "      <td>Not significant (H0 rejection fail)</td>\n",
       "    </tr>\n",
       "    <tr>\n",
       "      <th>2</th>\n",
       "      <td>block1_conv2</td>\n",
       "      <td>0.000002</td>\n",
       "      <td>Significant (reject H0)</td>\n",
       "    </tr>\n",
       "    <tr>\n",
       "      <th>3</th>\n",
       "      <td>block1_conv2</td>\n",
       "      <td>0.867222</td>\n",
       "      <td>Not significant (H0 rejection fail)</td>\n",
       "    </tr>\n",
       "    <tr>\n",
       "      <th>4</th>\n",
       "      <td>block2_conv1</td>\n",
       "      <td>0.051054</td>\n",
       "      <td>Not significant (H0 rejection fail)</td>\n",
       "    </tr>\n",
       "  </tbody>\n",
       "</table>\n",
       "</div>"
      ],
      "text/plain": [
       "          Layer   p-Value                    Median Difference\n",
       "0  block1_conv1  0.627072  Not significant (H0 rejection fail)\n",
       "1  block1_conv1  0.688236  Not significant (H0 rejection fail)\n",
       "2  block1_conv2  0.000002              Significant (reject H0)\n",
       "3  block1_conv2  0.867222  Not significant (H0 rejection fail)\n",
       "4  block2_conv1  0.051054  Not significant (H0 rejection fail)"
      ]
     },
     "execution_count": 16,
     "metadata": {},
     "output_type": "execute_result"
    }
   ],
   "source": [
    "# putting together the calculations into a Pandas DataFrame\n",
    "wilcoxon_df = dict_to_DF(g_dict=wilcoxon_data, checkpoint=\"Checkpoints: 1 to 4\")\n",
    "wilcoxon_df.iloc[:,:3].head()"
   ]
  },
  {
   "cell_type": "code",
   "execution_count": 17,
   "id": "a25fdbdd-938b-416d-b7f0-7a05b514fc27",
   "metadata": {},
   "outputs": [],
   "source": [
    "# putting checkpoint 1 to checkpoint 4 results into a combined results DataFrame\n",
    "overall_wilcoxon_data = pd.concat([overall_wilcoxon_data, wilcoxon_df], ignore_index=True)"
   ]
  },
  {
   "cell_type": "markdown",
   "id": "289c6d36-fd9e-4bd3-ab09-d5aee726f509",
   "metadata": {},
   "source": [
    "### CHECKPOINT 2 TO CHECKPOINT 3 WILCOXON SIGNED-RANK TEST"
   ]
  },
  {
   "cell_type": "code",
   "execution_count": 18,
   "id": "42b4e7c3-8b8f-4bf1-b372-dc3050d75058",
   "metadata": {},
   "outputs": [],
   "source": [
    "# loading all the models with respective initial and final weights\n",
    "custom_models = [custom_vgg22.cifar10_custom_VGG22(weights='D:/CIFAR_10_stuff/weights/custom_VGG_checkpoint_2.h5'),\n",
    "                 custom_vgg22.cifar10_custom_VGG22(weights='D:/CIFAR_10_stuff/weights/custom_VGG_checkpoint_3.h5')]\n",
    "preload_models = [model_preload(weights='D:/CIFAR_10_stuff/weights/preload_VGG_checkpoint_2.h5'),\n",
    "                  model_preload(weights='D:/CIFAR_10_stuff/weights/preload_VGG_checkpoint_3.h5')]"
   ]
  },
  {
   "cell_type": "code",
   "execution_count": 19,
   "id": "ed952a44-65de-4a7c-aec1-fd6d8d475f0a",
   "metadata": {},
   "outputs": [],
   "source": [
    "# performing the test across the respective layer weight and bias differences\n",
    "wilcoxon_data = wilcoxon_calc(preload_models=preload_models, custom_models=custom_models)"
   ]
  },
  {
   "cell_type": "code",
   "execution_count": 20,
   "id": "db3aaa79-4895-4267-acbe-03f2601875b8",
   "metadata": {},
   "outputs": [
    {
     "data": {
      "text/html": [
       "<div>\n",
       "<style scoped>\n",
       "    .dataframe tbody tr th:only-of-type {\n",
       "        vertical-align: middle;\n",
       "    }\n",
       "\n",
       "    .dataframe tbody tr th {\n",
       "        vertical-align: top;\n",
       "    }\n",
       "\n",
       "    .dataframe thead th {\n",
       "        text-align: right;\n",
       "    }\n",
       "</style>\n",
       "<table border=\"1\" class=\"dataframe\">\n",
       "  <thead>\n",
       "    <tr style=\"text-align: right;\">\n",
       "      <th></th>\n",
       "      <th>Layer</th>\n",
       "      <th>p-Value</th>\n",
       "      <th>Median Difference</th>\n",
       "    </tr>\n",
       "  </thead>\n",
       "  <tbody>\n",
       "    <tr>\n",
       "      <th>0</th>\n",
       "      <td>block1_conv1</td>\n",
       "      <td>7.842479e-11</td>\n",
       "      <td>Significant (reject H0)</td>\n",
       "    </tr>\n",
       "    <tr>\n",
       "      <th>1</th>\n",
       "      <td>block1_conv1</td>\n",
       "      <td>4.245792e-04</td>\n",
       "      <td>Significant (reject H0)</td>\n",
       "    </tr>\n",
       "    <tr>\n",
       "      <th>2</th>\n",
       "      <td>block1_conv2</td>\n",
       "      <td>0.000000e+00</td>\n",
       "      <td>Significant (reject H0)</td>\n",
       "    </tr>\n",
       "    <tr>\n",
       "      <th>3</th>\n",
       "      <td>block1_conv2</td>\n",
       "      <td>9.466812e-01</td>\n",
       "      <td>Not significant (H0 rejection fail)</td>\n",
       "    </tr>\n",
       "    <tr>\n",
       "      <th>4</th>\n",
       "      <td>block2_conv1</td>\n",
       "      <td>0.000000e+00</td>\n",
       "      <td>Significant (reject H0)</td>\n",
       "    </tr>\n",
       "  </tbody>\n",
       "</table>\n",
       "</div>"
      ],
      "text/plain": [
       "          Layer       p-Value                    Median Difference\n",
       "0  block1_conv1  7.842479e-11              Significant (reject H0)\n",
       "1  block1_conv1  4.245792e-04              Significant (reject H0)\n",
       "2  block1_conv2  0.000000e+00              Significant (reject H0)\n",
       "3  block1_conv2  9.466812e-01  Not significant (H0 rejection fail)\n",
       "4  block2_conv1  0.000000e+00              Significant (reject H0)"
      ]
     },
     "execution_count": 20,
     "metadata": {},
     "output_type": "execute_result"
    }
   ],
   "source": [
    "# putting together the calculations into a Pandas DataFrame\n",
    "wilcoxon_df = dict_to_DF(g_dict=wilcoxon_data, checkpoint=\"Checkpoints: 2 to 3\")\n",
    "wilcoxon_df.iloc[:,:3].head()"
   ]
  },
  {
   "cell_type": "code",
   "execution_count": 21,
   "id": "7a07dacb-1fa9-44c0-b8d1-b8f233e114a4",
   "metadata": {},
   "outputs": [],
   "source": [
    "# putting checkpoint 2 to checkpoint 3 results into a combined results DataFrame\n",
    "overall_wilcoxon_data = pd.concat([overall_wilcoxon_data, wilcoxon_df], ignore_index=True)"
   ]
  },
  {
   "cell_type": "markdown",
   "id": "6753b052-62ae-4fe6-9887-59df7c3ae778",
   "metadata": {},
   "source": [
    "### CHECKPOINT 2 TO CHECKPOINT 4 WILCOXON SIGNED-RANK TEST"
   ]
  },
  {
   "cell_type": "code",
   "execution_count": 22,
   "id": "9c5d49b5-5fe0-4abd-9af4-f1d48cd9aac7",
   "metadata": {},
   "outputs": [],
   "source": [
    "# loading all the models with respective initial and final weights\n",
    "custom_models = [custom_vgg22.cifar10_custom_VGG22(weights='D:/CIFAR_10_stuff/weights/custom_VGG_checkpoint_2.h5'),\n",
    "                 custom_vgg22.cifar10_custom_VGG22(weights='D:/CIFAR_10_stuff/weights/custom_VGG_checkpoint_4.h5')]\n",
    "preload_models = [model_preload(weights='D:/CIFAR_10_stuff/weights/preload_VGG_checkpoint_2.h5'),\n",
    "                  model_preload(weights='D:/CIFAR_10_stuff/weights/preload_VGG_checkpoint_4.h5')]"
   ]
  },
  {
   "cell_type": "code",
   "execution_count": 23,
   "id": "b82750bd-1f7e-4a3c-b133-07480c90effa",
   "metadata": {},
   "outputs": [],
   "source": [
    "# performing the test across the respective layer weight and bias differences\n",
    "wilcoxon_data = wilcoxon_calc(preload_models=preload_models, custom_models=custom_models)"
   ]
  },
  {
   "cell_type": "code",
   "execution_count": 24,
   "id": "b28444e0-45f5-4cff-ad9b-240e7b859bdf",
   "metadata": {},
   "outputs": [
    {
     "data": {
      "text/html": [
       "<div>\n",
       "<style scoped>\n",
       "    .dataframe tbody tr th:only-of-type {\n",
       "        vertical-align: middle;\n",
       "    }\n",
       "\n",
       "    .dataframe tbody tr th {\n",
       "        vertical-align: top;\n",
       "    }\n",
       "\n",
       "    .dataframe thead th {\n",
       "        text-align: right;\n",
       "    }\n",
       "</style>\n",
       "<table border=\"1\" class=\"dataframe\">\n",
       "  <thead>\n",
       "    <tr style=\"text-align: right;\">\n",
       "      <th></th>\n",
       "      <th>Layer</th>\n",
       "      <th>p-Value</th>\n",
       "      <th>Median Difference</th>\n",
       "    </tr>\n",
       "  </thead>\n",
       "  <tbody>\n",
       "    <tr>\n",
       "      <th>0</th>\n",
       "      <td>block1_conv1</td>\n",
       "      <td>0.009329</td>\n",
       "      <td>Significant (reject H0)</td>\n",
       "    </tr>\n",
       "    <tr>\n",
       "      <th>1</th>\n",
       "      <td>block1_conv1</td>\n",
       "      <td>0.000162</td>\n",
       "      <td>Significant (reject H0)</td>\n",
       "    </tr>\n",
       "    <tr>\n",
       "      <th>2</th>\n",
       "      <td>block1_conv2</td>\n",
       "      <td>0.000000</td>\n",
       "      <td>Significant (reject H0)</td>\n",
       "    </tr>\n",
       "    <tr>\n",
       "      <th>3</th>\n",
       "      <td>block1_conv2</td>\n",
       "      <td>0.957334</td>\n",
       "      <td>Not significant (H0 rejection fail)</td>\n",
       "    </tr>\n",
       "    <tr>\n",
       "      <th>4</th>\n",
       "      <td>block2_conv1</td>\n",
       "      <td>0.000000</td>\n",
       "      <td>Significant (reject H0)</td>\n",
       "    </tr>\n",
       "  </tbody>\n",
       "</table>\n",
       "</div>"
      ],
      "text/plain": [
       "          Layer   p-Value                    Median Difference\n",
       "0  block1_conv1  0.009329              Significant (reject H0)\n",
       "1  block1_conv1  0.000162              Significant (reject H0)\n",
       "2  block1_conv2  0.000000              Significant (reject H0)\n",
       "3  block1_conv2  0.957334  Not significant (H0 rejection fail)\n",
       "4  block2_conv1  0.000000              Significant (reject H0)"
      ]
     },
     "execution_count": 24,
     "metadata": {},
     "output_type": "execute_result"
    }
   ],
   "source": [
    "# putting together the calculations into a Pandas DataFrame\n",
    "wilcoxon_df = dict_to_DF(g_dict=wilcoxon_data, checkpoint=\"Checkpoints: 2 to 4\")\n",
    "wilcoxon_df.iloc[:,:3].head()"
   ]
  },
  {
   "cell_type": "code",
   "execution_count": 25,
   "id": "eb3cc076-a13f-46c5-bc03-beb8ba7c5a54",
   "metadata": {},
   "outputs": [],
   "source": [
    "# putting checkpoint 2 to checkpoint 4 results into a combined results DataFrame\n",
    "overall_wilcoxon_data = pd.concat([overall_wilcoxon_data, wilcoxon_df], ignore_index=True)"
   ]
  },
  {
   "cell_type": "markdown",
   "id": "70afccd5-71fb-4910-b159-32cb0ad6d748",
   "metadata": {},
   "source": [
    "### CHECKPOINT 3 TO CHECKPOINT 4 WILCOXON SIGNED-RANK TEST"
   ]
  },
  {
   "cell_type": "code",
   "execution_count": 26,
   "id": "76bc915c-23c0-4b78-a3cd-075d9fa6d817",
   "metadata": {},
   "outputs": [],
   "source": [
    "# loading all the models with respective initial and final weights\n",
    "custom_models = [custom_vgg22.cifar10_custom_VGG22(weights='D:/CIFAR_10_stuff/weights/custom_VGG_checkpoint_3.h5'),\n",
    "                 custom_vgg22.cifar10_custom_VGG22(weights='D:/CIFAR_10_stuff/weights/custom_VGG_checkpoint_4.h5')]\n",
    "preload_models = [model_preload(weights='D:/CIFAR_10_stuff/weights/preload_VGG_checkpoint_3.h5'),\n",
    "                  model_preload(weights='D:/CIFAR_10_stuff/weights/preload_VGG_checkpoint_4.h5')]"
   ]
  },
  {
   "cell_type": "code",
   "execution_count": 27,
   "id": "de0e28c8-b889-495b-859c-7e9405298e2e",
   "metadata": {},
   "outputs": [],
   "source": [
    "# performing the test across the respective layer weight and bias differences\n",
    "wilcoxon_data = wilcoxon_calc(preload_models=preload_models, custom_models=custom_models)"
   ]
  },
  {
   "cell_type": "code",
   "execution_count": 28,
   "id": "f04a016f-3c78-4422-995b-635fb5e08ec6",
   "metadata": {
    "scrolled": true
   },
   "outputs": [
    {
     "data": {
      "text/html": [
       "<div>\n",
       "<style scoped>\n",
       "    .dataframe tbody tr th:only-of-type {\n",
       "        vertical-align: middle;\n",
       "    }\n",
       "\n",
       "    .dataframe tbody tr th {\n",
       "        vertical-align: top;\n",
       "    }\n",
       "\n",
       "    .dataframe thead th {\n",
       "        text-align: right;\n",
       "    }\n",
       "</style>\n",
       "<table border=\"1\" class=\"dataframe\">\n",
       "  <thead>\n",
       "    <tr style=\"text-align: right;\">\n",
       "      <th></th>\n",
       "      <th>Layer</th>\n",
       "      <th>p-Value</th>\n",
       "      <th>Median Difference</th>\n",
       "    </tr>\n",
       "  </thead>\n",
       "  <tbody>\n",
       "    <tr>\n",
       "      <th>0</th>\n",
       "      <td>block1_conv1</td>\n",
       "      <td>6.656317e-09</td>\n",
       "      <td>Significant (reject H0)</td>\n",
       "    </tr>\n",
       "    <tr>\n",
       "      <th>1</th>\n",
       "      <td>block1_conv1</td>\n",
       "      <td>3.208246e-04</td>\n",
       "      <td>Significant (reject H0)</td>\n",
       "    </tr>\n",
       "    <tr>\n",
       "      <th>2</th>\n",
       "      <td>block1_conv2</td>\n",
       "      <td>0.000000e+00</td>\n",
       "      <td>Significant (reject H0)</td>\n",
       "    </tr>\n",
       "    <tr>\n",
       "      <th>3</th>\n",
       "      <td>block1_conv2</td>\n",
       "      <td>8.567109e-01</td>\n",
       "      <td>Not significant (H0 rejection fail)</td>\n",
       "    </tr>\n",
       "    <tr>\n",
       "      <th>4</th>\n",
       "      <td>block2_conv1</td>\n",
       "      <td>7.274342e-73</td>\n",
       "      <td>Significant (reject H0)</td>\n",
       "    </tr>\n",
       "  </tbody>\n",
       "</table>\n",
       "</div>"
      ],
      "text/plain": [
       "          Layer       p-Value                    Median Difference\n",
       "0  block1_conv1  6.656317e-09              Significant (reject H0)\n",
       "1  block1_conv1  3.208246e-04              Significant (reject H0)\n",
       "2  block1_conv2  0.000000e+00              Significant (reject H0)\n",
       "3  block1_conv2  8.567109e-01  Not significant (H0 rejection fail)\n",
       "4  block2_conv1  7.274342e-73              Significant (reject H0)"
      ]
     },
     "execution_count": 28,
     "metadata": {},
     "output_type": "execute_result"
    }
   ],
   "source": [
    "# putting together the calculations into a Pandas DataFrame\n",
    "wilcoxon_df = dict_to_DF(g_dict=wilcoxon_data, checkpoint=\"Checkpoints: 3 to 4\")\n",
    "wilcoxon_df.iloc[:,:3].head()"
   ]
  },
  {
   "cell_type": "code",
   "execution_count": 29,
   "id": "7f2c87b9-4308-48b7-a6d5-35d9a896e882",
   "metadata": {},
   "outputs": [],
   "source": [
    "# putting checkpoint 3 to checkpoint 4 results into a combined results DataFrame\n",
    "overall_wilcoxon_data = pd.concat([overall_wilcoxon_data, wilcoxon_df], ignore_index=True)"
   ]
  },
  {
   "cell_type": "markdown",
   "id": "539281e8-935d-465b-97e1-4dc11b31235b",
   "metadata": {},
   "source": [
    "### TEST RESULTS VISULAIZATION"
   ]
  },
  {
   "cell_type": "code",
   "execution_count": 30,
   "id": "a6f1ceb6-ba02-4df5-a141-e9e104b12240",
   "metadata": {},
   "outputs": [
    {
     "data": {
      "image/png": "[encoded data removed]",
      "text/plain": [
       "<Figure size 1408x768 with 1 Axes>"
      ]
     },
     "metadata": {},
     "output_type": "display_data"
    }
   ],
   "source": [
    "# Wilcoxon Signed-Rank Test Results Data Visualization\n",
    "data = overall_wilcoxon_data.pivot(index=\"Layer\", columns=[\"checkpoint\", \"value category\"], values=\"binary difference\")\n",
    "layers = [layer.name for layer in custom_models[0].layers if layer.weights != []]  # getting names of the layers for proper indexing\n",
    "data = data.reindex(layers)\n",
    "\n",
    "plt.figure(figsize=(11, 6), dpi=128)\n",
    "\n",
    "sns.heatmap(data.T, cbar=False, cmap=sns.color_palette(n_colors=2), linewidths=0.5)\n",
    "\n",
    "significant_patch = mpatches.Patch(color=sns.color_palette(as_cmap=True)[1], label='Significant Difference: Null Hypothesis Rejected')\n",
    "not_significant_patch = mpatches.Patch(color=sns.color_palette(as_cmap=True)[0], label='Not Significant Difference: Failed to reject H0')\n",
    "missing_data_patch = mpatches.Patch(facecolor=\"white\", edgecolor=\"black\", label=\"Either either Vector or their Element-wise Difference is Zero\")\n",
    "plt.legend(handles=[significant_patch, not_significant_patch, missing_data_patch], loc=(0.45,-0.47), title='Layer-wise Median Difference')\n",
    "\n",
    "plt.xlabel('Model Layers')\n",
    "plt.ylabel('Model Checkpoints')\n",
    "plt.title('Weight & Bias Development Wilcoxon Signed-Rank Test Results')\n",
    "\n",
    "plt.show()"
   ]
  }
 ],
 "metadata": {
  "kernelspec": {
   "display_name": "Python 3 (ipykernel)",
   "language": "python",
   "name": "python3"
  },
  "language_info": {
   "codemirror_mode": {
    "name": "ipython",
    "version": 3
   },
   "file_extension": ".py",
   "mimetype": "text/x-python",
   "name": "python",
   "nbconvert_exporter": "python",
   "pygments_lexer": "ipython3",
   "version": "3.10.13"
  }
 },
 "nbformat": 4,
 "nbformat_minor": 5
}
