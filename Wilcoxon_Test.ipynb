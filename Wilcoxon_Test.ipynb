{
 "cells": [
  {
   "cell_type": "markdown",
   "id": "47f4f635-3c74-4da4-9975-813d640fcc58",
   "metadata": {},
   "source": [
    "##### LOADING NECESSARY LIBRARIES AND CREATING NECESSARY FUNCTIONS"
   ]
  },
  {
   "cell_type": "code",
   "execution_count": 1,
   "id": "dcb175cf",
   "metadata": {},
   "outputs": [],
   "source": [
    "import numpy as np\n",
    "import pandas as pd\n",
    "import tensorflow as tf\n",
    "import scipy.stats as stats\n",
    "import matplotlib.pyplot as plt\n",
    "import seaborn as sns\n",
    "import custom_vgg22\n",
    "import preloaded_vgg22\n",
    "import os\n",
    "import matplotlib.patches as mpatches"
   ]
  },
  {
   "cell_type": "code",
   "execution_count": 2,
   "id": "5475fd05-6bf8-4f8a-b454-8fdb4e31b1b4",
   "metadata": {},
   "outputs": [],
   "source": [
    "os.environ['KMP_DUPLICATE_LIB_OK'] = 'True'"
   ]
  },
  {
   "cell_type": "code",
   "execution_count": 3,
   "id": "4cc45645-ebd2-4ed1-8462-5e528e8f27a0",
   "metadata": {},
   "outputs": [],
   "source": [
    "# function to load preloaded VGGNet model on custom VGGNet model architecture\n",
    "def model_preload(weights=tf.keras.Model.weights):\n",
    "    \"\"\"\n",
    "    input:\n",
    "    weights -- weights of the base VGGNet model\n",
    "\n",
    "    output:\n",
    "    tf.keras.Model -- VGG22 Model with preloaded_VGG weights but custom_VGG architecture\n",
    "    \n",
    "    \"\"\"\n",
    "    # purpose of this function is to make later weights and biases comparisons easier\n",
    "    # by providing the same architecture to both the models\n",
    "    \n",
    "    base_model = preloaded_vgg22.cifar10_VGG22()   # loading preloaded VGG22 model\n",
    "    base_model.load_weights(weights)\n",
    "    \n",
    "    preload_model = custom_vgg22.cifar10_custom_VGG22()  # loading custom VGG22 model\n",
    "\n",
    "    i = 2\n",
    "    # assigning weights correspondingly from preloaded model to custom model\n",
    "    for layer in base_model.layers[3].layers:\n",
    "        preload_model.layers[i].set_weights(layer.weights)  # VGGNet architecture\n",
    "        i += 1\n",
    "    \n",
    "    preload_model.layers[i].set_weights(base_model.layers[4].weights)       # batchnormalization layer\n",
    "    preload_model.layers[i+3].set_weights(base_model.layers[7].weights)     # fc1 dense layer\n",
    "    preload_model.layers[i+5].set_weights(base_model.layers[9].weights)     # fc2 dense layer\n",
    "    preload_model.layers[i+7].set_weights(base_model.layers[11].weights)    # fc3 dense layer\n",
    "    preload_model.layers[i+9].set_weights(base_model.layers[13].weights)    # fc4 dense layer\n",
    "    preload_model.layers[i+11].set_weights(base_model.layers[15].weights)   # predictions layer\n",
    "\n",
    "    return preload_model"
   ]
  },
  {
   "cell_type": "code",
   "execution_count": 4,
   "id": "a0bf5615-a59d-4a9b-9e13-a47258ce5ab2",
   "metadata": {},
   "outputs": [],
   "source": [
    "# function to generate statistics on the data\n",
    "def wilcoxon_calc(models=[tf.keras.Model, tf.keras.Model], checkpoint=None):\n",
    "    \"\"\"\n",
    "    input:\n",
    "    models -- two tf.keras.Model\n",
    "    checkpoint -- model checkpoint as an integer\n",
    "\n",
    "    output:\n",
    "    dictionary -- a dictionary with Wilcoxon Signed-Rank Test results\n",
    "    \"\"\"\n",
    "    data = {}\n",
    "\n",
    "    for i in range(len(models[0].layers)):  # looping through the model\n",
    "        # creating a condition to exclude BatchNormalization Layer on Checkpoint 1\n",
    "        # Because they're exactly the same at initialization\n",
    "        if checkpoint == 1:\n",
    "            condition = models[0].layers[i].name != \"batch_norm\"\n",
    "        else:\n",
    "            condition = True\n",
    "        \n",
    "        # excluding layers without weights and biases and the BatchNormalization Layer on Checkpoint 1\n",
    "        if models[0].layers[i].weights != [] and condition:\n",
    "            model1_weights = np.concatenate((models[0].layers[i].get_weights()[0].flatten(), models[0].layers[i].get_weights()[1]))\n",
    "            model2_weights = np.concatenate((models[1].layers[i].get_weights()[0].flatten(), models[1].layers[i].get_weights()[1]))\n",
    "            # performing Wilcoxon Signed-Rank Test\n",
    "            _, data[models[0].layers[i].name] = stats.wilcoxon(model1_weights, model2_weights)\n",
    "            \n",
    "    return data"
   ]
  },
  {
   "cell_type": "code",
   "execution_count": 5,
   "id": "add2b694-3849-4bd2-9270-5b71f117bcbc",
   "metadata": {},
   "outputs": [],
   "source": [
    "# function to transform dictionary to Pandas DataFrame\n",
    "def dict_to_DF(g_dict=None, checkpoint=None):\n",
    "    \"\"\"\n",
    "    input:\n",
    "    g_dict -- a dictionary with Wilcoxon Signed-Rank Test results\n",
    "    checkpoint -- model checkpoint as a string\n",
    "    \n",
    "    output:\n",
    "    Pandas DataFrame -- a Pandas DataFrame\n",
    "    \n",
    "    \"\"\"\n",
    "    data = pd.DataFrame(list(g_dict.items()), columns=['Layer', 'p-Value'])  # creating DataFrame\n",
    "    # creating a column to tell if H0 is rejected or not\n",
    "    data[\"Difference in Layer Weights\"] = data['p-Value'].apply(lambda x: \"Not significant (H0 rejection fail)\" if x > 0.05 else \"Significant (reject H0)\")\n",
    "    # creating a column with binary encoded median difference values\n",
    "    data[\"binary difference\"] = data['p-Value'].apply(lambda x: 0 if x > 0.05 else 1)\n",
    "    # creating a column with checkpoint values\n",
    "    data[\"checkpoint\"] = checkpoint\n",
    "    \n",
    "    return data"
   ]
  },
  {
   "cell_type": "markdown",
   "id": "1e6f87c8-a637-4117-9067-11299ba68ead",
   "metadata": {},
   "source": [
    "### CHECKPOINT 1 WILCOXON SIGNED-RANK TEST"
   ]
  },
  {
   "cell_type": "code",
   "execution_count": 6,
   "id": "31a0fd29-7cab-4e0c-af43-53cc87baa4b5",
   "metadata": {},
   "outputs": [],
   "source": [
    "# loading both models with respective initial weights\n",
    "custom_model = custom_vgg22.cifar10_custom_VGG22(weights='D:/CIFAR_10_stuff/weights/custom_VGG_checkpoint_1.h5')\n",
    "preload_model = model_preload(weights='D:/CIFAR_10_stuff/weights/preload_VGG_checkpoint_1.h5')"
   ]
  },
  {
   "cell_type": "code",
   "execution_count": 7,
   "id": "fca550a9-0a77-4ac5-9214-baee939e9b81",
   "metadata": {},
   "outputs": [],
   "source": [
    "# performing the test across the respective layers of the two models\n",
    "wilcoxon_data = wilcoxon_calc(models = [preload_model, custom_model], checkpoint=1)"
   ]
  },
  {
   "cell_type": "code",
   "execution_count": 8,
   "id": "7cb2b7a7-6b1c-4b0a-a968-ae3b5c29fc50",
   "metadata": {},
   "outputs": [
    {
     "data": {
      "text/html": [
       "<div>\n",
       "<style scoped>\n",
       "    .dataframe tbody tr th:only-of-type {\n",
       "        vertical-align: middle;\n",
       "    }\n",
       "\n",
       "    .dataframe tbody tr th {\n",
       "        vertical-align: top;\n",
       "    }\n",
       "\n",
       "    .dataframe thead th {\n",
       "        text-align: right;\n",
       "    }\n",
       "</style>\n",
       "<table border=\"1\" class=\"dataframe\">\n",
       "  <thead>\n",
       "    <tr style=\"text-align: right;\">\n",
       "      <th></th>\n",
       "      <th>Layer</th>\n",
       "      <th>p-Value</th>\n",
       "      <th>Difference in Layer Weights</th>\n",
       "    </tr>\n",
       "  </thead>\n",
       "  <tbody>\n",
       "    <tr>\n",
       "      <th>0</th>\n",
       "      <td>block1_conv1</td>\n",
       "      <td>1.183948e-01</td>\n",
       "      <td>Not significant (H0 rejection fail)</td>\n",
       "    </tr>\n",
       "    <tr>\n",
       "      <th>1</th>\n",
       "      <td>block1_conv2</td>\n",
       "      <td>2.381961e-22</td>\n",
       "      <td>Significant (reject H0)</td>\n",
       "    </tr>\n",
       "    <tr>\n",
       "      <th>2</th>\n",
       "      <td>block2_conv1</td>\n",
       "      <td>8.867645e-02</td>\n",
       "      <td>Not significant (H0 rejection fail)</td>\n",
       "    </tr>\n",
       "    <tr>\n",
       "      <th>3</th>\n",
       "      <td>block2_conv2</td>\n",
       "      <td>1.227796e-11</td>\n",
       "      <td>Significant (reject H0)</td>\n",
       "    </tr>\n",
       "    <tr>\n",
       "      <th>4</th>\n",
       "      <td>block3_conv1</td>\n",
       "      <td>2.693197e-11</td>\n",
       "      <td>Significant (reject H0)</td>\n",
       "    </tr>\n",
       "  </tbody>\n",
       "</table>\n",
       "</div>"
      ],
      "text/plain": [
       "          Layer       p-Value          Difference in Layer Weights\n",
       "0  block1_conv1  1.183948e-01  Not significant (H0 rejection fail)\n",
       "1  block1_conv2  2.381961e-22              Significant (reject H0)\n",
       "2  block2_conv1  8.867645e-02  Not significant (H0 rejection fail)\n",
       "3  block2_conv2  1.227796e-11              Significant (reject H0)\n",
       "4  block3_conv1  2.693197e-11              Significant (reject H0)"
      ]
     },
     "execution_count": 8,
     "metadata": {},
     "output_type": "execute_result"
    }
   ],
   "source": [
    "# putting together the calculations into a Pandas DataFrame\n",
    "wilcoxon_df = dict_to_DF(g_dict=wilcoxon_data, checkpoint=\"Checkpoint 1\")\n",
    "wilcoxon_df.iloc[:,:3].head()"
   ]
  },
  {
   "cell_type": "code",
   "execution_count": 9,
   "id": "6d84c232-cc55-4847-9385-435b74cef69d",
   "metadata": {},
   "outputs": [],
   "source": [
    "# putting together a new Pandas DataFrame to combine results from all checkpoints\n",
    "overall_wilcoxon_data = wilcoxon_df"
   ]
  },
  {
   "cell_type": "markdown",
   "id": "289c6d36-fd9e-4bd3-ab09-d5aee726f509",
   "metadata": {},
   "source": [
    "### CHECKPOINT 2 WILCOXON SIGNED-RANK TEST"
   ]
  },
  {
   "cell_type": "code",
   "execution_count": 10,
   "id": "42b4e7c3-8b8f-4bf1-b372-dc3050d75058",
   "metadata": {},
   "outputs": [],
   "source": [
    "# loading both models with respective initial weights\n",
    "custom_model = custom_vgg22.cifar10_custom_VGG22(weights='D:/CIFAR_10_stuff/weights/custom_VGG_checkpoint_2.h5')\n",
    "preload_model = model_preload(weights='D:/CIFAR_10_stuff/weights/preload_VGG_checkpoint_2.h5')"
   ]
  },
  {
   "cell_type": "code",
   "execution_count": 11,
   "id": "ed952a44-65de-4a7c-aec1-fd6d8d475f0a",
   "metadata": {},
   "outputs": [],
   "source": [
    "# performing the test across the respective layers of the two models\n",
    "wilcoxon_data = wilcoxon_calc(models = [preload_model, custom_model])"
   ]
  },
  {
   "cell_type": "code",
   "execution_count": 12,
   "id": "db3aaa79-4895-4267-acbe-03f2601875b8",
   "metadata": {},
   "outputs": [
    {
     "data": {
      "text/html": [
       "<div>\n",
       "<style scoped>\n",
       "    .dataframe tbody tr th:only-of-type {\n",
       "        vertical-align: middle;\n",
       "    }\n",
       "\n",
       "    .dataframe tbody tr th {\n",
       "        vertical-align: top;\n",
       "    }\n",
       "\n",
       "    .dataframe thead th {\n",
       "        text-align: right;\n",
       "    }\n",
       "</style>\n",
       "<table border=\"1\" class=\"dataframe\">\n",
       "  <thead>\n",
       "    <tr style=\"text-align: right;\">\n",
       "      <th></th>\n",
       "      <th>Layer</th>\n",
       "      <th>p-Value</th>\n",
       "      <th>Difference in Layer Weights</th>\n",
       "    </tr>\n",
       "  </thead>\n",
       "  <tbody>\n",
       "    <tr>\n",
       "      <th>0</th>\n",
       "      <td>block1_conv1</td>\n",
       "      <td>6.562289e-02</td>\n",
       "      <td>Not significant (H0 rejection fail)</td>\n",
       "    </tr>\n",
       "    <tr>\n",
       "      <th>1</th>\n",
       "      <td>block1_conv2</td>\n",
       "      <td>3.965864e-95</td>\n",
       "      <td>Significant (reject H0)</td>\n",
       "    </tr>\n",
       "    <tr>\n",
       "      <th>2</th>\n",
       "      <td>block2_conv1</td>\n",
       "      <td>2.368509e-16</td>\n",
       "      <td>Significant (reject H0)</td>\n",
       "    </tr>\n",
       "    <tr>\n",
       "      <th>3</th>\n",
       "      <td>block2_conv2</td>\n",
       "      <td>1.654238e-162</td>\n",
       "      <td>Significant (reject H0)</td>\n",
       "    </tr>\n",
       "    <tr>\n",
       "      <th>4</th>\n",
       "      <td>block3_conv1</td>\n",
       "      <td>0.000000e+00</td>\n",
       "      <td>Significant (reject H0)</td>\n",
       "    </tr>\n",
       "  </tbody>\n",
       "</table>\n",
       "</div>"
      ],
      "text/plain": [
       "          Layer        p-Value          Difference in Layer Weights\n",
       "0  block1_conv1   6.562289e-02  Not significant (H0 rejection fail)\n",
       "1  block1_conv2   3.965864e-95              Significant (reject H0)\n",
       "2  block2_conv1   2.368509e-16              Significant (reject H0)\n",
       "3  block2_conv2  1.654238e-162              Significant (reject H0)\n",
       "4  block3_conv1   0.000000e+00              Significant (reject H0)"
      ]
     },
     "execution_count": 12,
     "metadata": {},
     "output_type": "execute_result"
    }
   ],
   "source": [
    "# putting together the calculations into a Pandas DataFrame\n",
    "wilcoxon_df = dict_to_DF(g_dict=wilcoxon_data, checkpoint=\"Checkpoint 2\")\n",
    "wilcoxon_df.iloc[:,:3].head()"
   ]
  },
  {
   "cell_type": "code",
   "execution_count": 13,
   "id": "7a07dacb-1fa9-44c0-b8d1-b8f233e114a4",
   "metadata": {},
   "outputs": [],
   "source": [
    "# putting checkpoint 2 results into a combined results DataFrame\n",
    "overall_wilcoxon_data = pd.concat([overall_wilcoxon_data, wilcoxon_df], ignore_index=True)"
   ]
  },
  {
   "cell_type": "markdown",
   "id": "70afccd5-71fb-4910-b159-32cb0ad6d748",
   "metadata": {},
   "source": [
    "### CHECKPOINT 3 WILCOXON SIGNED-RANK TEST"
   ]
  },
  {
   "cell_type": "code",
   "execution_count": 14,
   "id": "76bc915c-23c0-4b78-a3cd-075d9fa6d817",
   "metadata": {},
   "outputs": [],
   "source": [
    "# loading both models with respective initial weights\n",
    "custom_model = custom_vgg22.cifar10_custom_VGG22(weights='D:/CIFAR_10_stuff/weights/custom_VGG_checkpoint_3.h5')\n",
    "preload_model = model_preload(weights='D:/CIFAR_10_stuff/weights/preload_VGG_checkpoint_3.h5')"
   ]
  },
  {
   "cell_type": "code",
   "execution_count": 15,
   "id": "de0e28c8-b889-495b-859c-7e9405298e2e",
   "metadata": {},
   "outputs": [],
   "source": [
    "# performing the test across the respective layers of the two models\n",
    "wilcoxon_data = wilcoxon_calc(models = [preload_model, custom_model])"
   ]
  },
  {
   "cell_type": "code",
   "execution_count": 16,
   "id": "f04a016f-3c78-4422-995b-635fb5e08ec6",
   "metadata": {},
   "outputs": [
    {
     "data": {
      "text/html": [
       "<div>\n",
       "<style scoped>\n",
       "    .dataframe tbody tr th:only-of-type {\n",
       "        vertical-align: middle;\n",
       "    }\n",
       "\n",
       "    .dataframe tbody tr th {\n",
       "        vertical-align: top;\n",
       "    }\n",
       "\n",
       "    .dataframe thead th {\n",
       "        text-align: right;\n",
       "    }\n",
       "</style>\n",
       "<table border=\"1\" class=\"dataframe\">\n",
       "  <thead>\n",
       "    <tr style=\"text-align: right;\">\n",
       "      <th></th>\n",
       "      <th>Layer</th>\n",
       "      <th>p-Value</th>\n",
       "      <th>Difference in Layer Weights</th>\n",
       "    </tr>\n",
       "  </thead>\n",
       "  <tbody>\n",
       "    <tr>\n",
       "      <th>0</th>\n",
       "      <td>block1_conv1</td>\n",
       "      <td>9.636376e-02</td>\n",
       "      <td>Not significant (H0 rejection fail)</td>\n",
       "    </tr>\n",
       "    <tr>\n",
       "      <th>1</th>\n",
       "      <td>block1_conv2</td>\n",
       "      <td>5.819457e-62</td>\n",
       "      <td>Significant (reject H0)</td>\n",
       "    </tr>\n",
       "    <tr>\n",
       "      <th>2</th>\n",
       "      <td>block2_conv1</td>\n",
       "      <td>2.710237e-01</td>\n",
       "      <td>Not significant (H0 rejection fail)</td>\n",
       "    </tr>\n",
       "    <tr>\n",
       "      <th>3</th>\n",
       "      <td>block2_conv2</td>\n",
       "      <td>1.198472e-72</td>\n",
       "      <td>Significant (reject H0)</td>\n",
       "    </tr>\n",
       "    <tr>\n",
       "      <th>4</th>\n",
       "      <td>block3_conv1</td>\n",
       "      <td>0.000000e+00</td>\n",
       "      <td>Significant (reject H0)</td>\n",
       "    </tr>\n",
       "  </tbody>\n",
       "</table>\n",
       "</div>"
      ],
      "text/plain": [
       "          Layer       p-Value          Difference in Layer Weights\n",
       "0  block1_conv1  9.636376e-02  Not significant (H0 rejection fail)\n",
       "1  block1_conv2  5.819457e-62              Significant (reject H0)\n",
       "2  block2_conv1  2.710237e-01  Not significant (H0 rejection fail)\n",
       "3  block2_conv2  1.198472e-72              Significant (reject H0)\n",
       "4  block3_conv1  0.000000e+00              Significant (reject H0)"
      ]
     },
     "execution_count": 16,
     "metadata": {},
     "output_type": "execute_result"
    }
   ],
   "source": [
    "# putting together the calculations into a Pandas DataFrame\n",
    "wilcoxon_df = dict_to_DF(g_dict=wilcoxon_data, checkpoint=\"Checkpoint 3\")\n",
    "wilcoxon_df.iloc[:,:3].head()"
   ]
  },
  {
   "cell_type": "code",
   "execution_count": 17,
   "id": "7f2c87b9-4308-48b7-a6d5-35d9a896e882",
   "metadata": {},
   "outputs": [],
   "source": [
    "# putting checkpoint 3 results into a combined results DataFrame\n",
    "overall_wilcoxon_data = pd.concat([overall_wilcoxon_data, wilcoxon_df], ignore_index=True)"
   ]
  },
  {
   "cell_type": "markdown",
   "id": "85b50ed4-9b95-4c9c-926b-673bca9466ff",
   "metadata": {
    "jp-MarkdownHeadingCollapsed": true
   },
   "source": [
    "### CHECKPOINT 4 WILCOXON SIGNED-RANK TEST"
   ]
  },
  {
   "cell_type": "code",
   "execution_count": 18,
   "id": "883f87d9-318b-4224-8e3d-60d86f42587f",
   "metadata": {},
   "outputs": [],
   "source": [
    "# loading both models with respective initial weights\n",
    "custom_model = custom_vgg22.cifar10_custom_VGG22(weights='D:/CIFAR_10_stuff/weights/custom_VGG_checkpoint_4.h5')\n",
    "preload_model = model_preload(weights='D:/CIFAR_10_stuff/weights/preload_VGG_checkpoint_4.h5')"
   ]
  },
  {
   "cell_type": "code",
   "execution_count": 19,
   "id": "cebbde73-b04b-4acf-aca6-2c8c79ab2fb1",
   "metadata": {},
   "outputs": [],
   "source": [
    "# performing the test across the respective layers of the two models\n",
    "wilcoxon_data = wilcoxon_calc(models = [preload_model, custom_model])"
   ]
  },
  {
   "cell_type": "code",
   "execution_count": 20,
   "id": "256c620c-c802-49b3-8ff5-2df70246dc4c",
   "metadata": {},
   "outputs": [
    {
     "data": {
      "text/html": [
       "<div>\n",
       "<style scoped>\n",
       "    .dataframe tbody tr th:only-of-type {\n",
       "        vertical-align: middle;\n",
       "    }\n",
       "\n",
       "    .dataframe tbody tr th {\n",
       "        vertical-align: top;\n",
       "    }\n",
       "\n",
       "    .dataframe thead th {\n",
       "        text-align: right;\n",
       "    }\n",
       "</style>\n",
       "<table border=\"1\" class=\"dataframe\">\n",
       "  <thead>\n",
       "    <tr style=\"text-align: right;\">\n",
       "      <th></th>\n",
       "      <th>Layer</th>\n",
       "      <th>p-Value</th>\n",
       "      <th>Difference in Layer Weights</th>\n",
       "    </tr>\n",
       "  </thead>\n",
       "  <tbody>\n",
       "    <tr>\n",
       "      <th>0</th>\n",
       "      <td>block1_conv1</td>\n",
       "      <td>8.561812e-02</td>\n",
       "      <td>Not significant (H0 rejection fail)</td>\n",
       "    </tr>\n",
       "    <tr>\n",
       "      <th>1</th>\n",
       "      <td>block1_conv2</td>\n",
       "      <td>2.015088e-49</td>\n",
       "      <td>Significant (reject H0)</td>\n",
       "    </tr>\n",
       "    <tr>\n",
       "      <th>2</th>\n",
       "      <td>block2_conv1</td>\n",
       "      <td>7.227649e-01</td>\n",
       "      <td>Not significant (H0 rejection fail)</td>\n",
       "    </tr>\n",
       "    <tr>\n",
       "      <th>3</th>\n",
       "      <td>block2_conv2</td>\n",
       "      <td>5.850319e-54</td>\n",
       "      <td>Significant (reject H0)</td>\n",
       "    </tr>\n",
       "    <tr>\n",
       "      <th>4</th>\n",
       "      <td>block3_conv1</td>\n",
       "      <td>0.000000e+00</td>\n",
       "      <td>Significant (reject H0)</td>\n",
       "    </tr>\n",
       "  </tbody>\n",
       "</table>\n",
       "</div>"
      ],
      "text/plain": [
       "          Layer       p-Value          Difference in Layer Weights\n",
       "0  block1_conv1  8.561812e-02  Not significant (H0 rejection fail)\n",
       "1  block1_conv2  2.015088e-49              Significant (reject H0)\n",
       "2  block2_conv1  7.227649e-01  Not significant (H0 rejection fail)\n",
       "3  block2_conv2  5.850319e-54              Significant (reject H0)\n",
       "4  block3_conv1  0.000000e+00              Significant (reject H0)"
      ]
     },
     "execution_count": 20,
     "metadata": {},
     "output_type": "execute_result"
    }
   ],
   "source": [
    "# putting together the calculations into a Pandas DataFrame\n",
    "wilcoxon_df = dict_to_DF(g_dict=wilcoxon_data, checkpoint=\"Checkpoint 4\")\n",
    "wilcoxon_df.iloc[:,:3].head()"
   ]
  },
  {
   "cell_type": "code",
   "execution_count": 21,
   "id": "43cccf1f-d2aa-4a62-9dd5-c9a247de5e45",
   "metadata": {},
   "outputs": [],
   "source": [
    "# putting checkpoint 4 results into a combined results DataFrame\n",
    "overall_wilcoxon_data = pd.concat([overall_wilcoxon_data, wilcoxon_df], ignore_index=True)"
   ]
  },
  {
   "cell_type": "markdown",
   "id": "539281e8-935d-465b-97e1-4dc11b31235b",
   "metadata": {},
   "source": [
    "### TEST RESULTS VISULAIZATION"
   ]
  },
  {
   "cell_type": "code",
   "execution_count": 29,
   "id": "a6f1ceb6-ba02-4df5-a141-e9e104b12240",
   "metadata": {},
   "outputs": [
    {
     "data": {
      "image/png": "[encoded data removed]",
      "text/plain": [
       "<Figure size 1536x256 with 1 Axes>"
      ]
     },
     "metadata": {},
     "output_type": "display_data"
    }
   ],
   "source": [
    "# Wilcoxon Signed-Rank Test Results Data Visualization\n",
    "data = overall_wilcoxon_data.pivot(index=\"Layer\", columns=[\"checkpoint\"], values=\"binary difference\")\n",
    "data = data.reindex(overall_wilcoxon_data[\"Layer\"][21:].unique())\n",
    "\n",
    "plt.figure(figsize=(12, 2), dpi=128)\n",
    "\n",
    "sns.heatmap(data.T, cbar=False, cmap=sns.color_palette(n_colors=2), linewidths=0.5)\n",
    "\n",
    "significant_patch = mpatches.Patch(color=sns.color_palette(as_cmap=True)[1], label='Significant Difference: Null Hypothesis Rejected')\n",
    "not_significant_patch = mpatches.Patch(color=sns.color_palette(as_cmap=True)[0], label='Not Significant Difference: Failed to reject H0')\n",
    "plt.legend(handles=[significant_patch, not_significant_patch], loc=(0.59,-1.18), title='Layer-wise median Weight Difference')\n",
    "\n",
    "plt.xlabel('Model Layers')\n",
    "plt.ylabel('Model Checkpoints')\n",
    "plt.title('Wilcoxon Signed-Rank Test Results')\n",
    "\n",
    "plt.show()"
   ]
  }
 ],
 "metadata": {
  "kernelspec": {
   "display_name": "Python 3 (ipykernel)",
   "language": "python",
   "name": "python3"
  },
  "language_info": {
   "codemirror_mode": {
    "name": "ipython",
    "version": 3
   },
   "file_extension": ".py",
   "mimetype": "text/x-python",
   "name": "python",
   "nbconvert_exporter": "python",
   "pygments_lexer": "ipython3",
   "version": "3.10.13"
  }
 },
 "nbformat": 4,
 "nbformat_minor": 5
}
